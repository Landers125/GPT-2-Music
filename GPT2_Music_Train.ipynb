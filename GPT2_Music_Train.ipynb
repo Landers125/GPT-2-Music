{
  "nbformat": 4,
  "nbformat_minor": 0,
  "metadata": {
    "colab": {
      "name": "GPT2 Music Train.ipynb",
      "provenance": [],
      "collapsed_sections": [],
      "include_colab_link": true
    },
    "kernelspec": {
      "display_name": "Python 3",
      "name": "python3"
    },
    "language_info": {
      "name": "python"
    },
    "accelerator": "GPU"
  },
  "cells": [
    {
      "cell_type": "markdown",
      "metadata": {
        "id": "view-in-github",
        "colab_type": "text"
      },
      "source": [
        "<a href=\"https://colab.research.google.com/github/annasajkh/GPT-2-Music/blob/main/GPT2_Music_Train.ipynb\" target=\"_parent\"><img src=\"https://colab.research.google.com/assets/colab-badge.svg\" alt=\"Open In Colab\"/></a>"
      ]
    },
    {
      "cell_type": "code",
      "metadata": {
        "id": "ubhsm7SDNC6p"
      },
      "source": [
        "from google.colab import drive\n",
        "drive.mount('/content/drive')"
      ],
      "execution_count": null,
      "outputs": []
    },
    {
      "cell_type": "code",
      "metadata": {
        "id": "tsG1yqtDwmi-"
      },
      "source": [
        "%cp drive/MyDrive/checkpoint_run1.tar /content/\n",
        "!tar -xf checkpoint_run1.tar"
      ],
      "execution_count": null,
      "outputs": []
    },
    {
      "cell_type": "code",
      "metadata": {
        "id": "2dzGBR5pVpvL"
      },
      "source": [
        "!pip install music21"
      ],
      "execution_count": null,
      "outputs": []
    },
    {
      "cell_type": "code",
      "metadata": {
        "id": "cqoCU44SM6Sd"
      },
      "source": [
        "%cp drive/MyDrive/adl-piano-midi.zip /content/"
      ],
      "execution_count": null,
      "outputs": []
    },
    {
      "cell_type": "code",
      "metadata": {
        "id": "WaniW_6LObqm"
      },
      "source": [
        "!unzip adl-piano-midi.zip"
      ],
      "execution_count": null,
      "outputs": []
    },
    {
      "cell_type": "code",
      "metadata": {
        "id": "XewwPo_R3SpQ"
      },
      "source": [
        "#code from https://towardsdatascience.com/how-to-generate-music-using-a-lstm-neural-network-in-keras-68786834d4c5\n",
        "\n",
        "from music21 import converter, instrument, note, chord, stream\n",
        "\n",
        "def midi2notes(path):\n",
        "  notes = []\n",
        "  midi = converter.parse(path)\n",
        "  notes_to_parse = None\n",
        "\n",
        "  parts = instrument.partitionByInstrument(midi)   \n",
        "  \n",
        "  if parts:\n",
        "    notes_to_parse = parts.parts[0].recurse()\n",
        "  else:\n",
        "    notes_to_parse = midi.flat.notes\n",
        "  \n",
        "  count = 0\n",
        "  \n",
        "  for element in notes_to_parse:\n",
        "    if isinstance(element, note.Note):\n",
        "      notes.append(str(element.pitch))\n",
        "    elif isinstance(element, chord.Chord):\n",
        "      notes.append(\".\".join(str(n) for n in element.normalOrder))\n",
        "  \n",
        "  return notes\n",
        "\n",
        "def notes2midi(notes, output_path):\n",
        "  offset = 0\n",
        "  output_notes = []\n",
        "\n",
        "  for pattern in notes:\n",
        "    if (\".\" in pattern) or pattern.isdigit():\n",
        "      notes_in_chord = pattern.split(\".\")\n",
        "      notes = []\n",
        "      for current_note in notes_in_chord:\n",
        "          new_note = note.Note(int(current_note))\n",
        "          new_note.storedInstrument = instrument.Piano()\n",
        "          notes.append(new_note)\n",
        "      new_chord = chord.Chord(notes)\n",
        "      new_chord.offset = offset\n",
        "      output_notes.append(new_chord)\n",
        "    else:\n",
        "      new_note = note.Note(pattern)\n",
        "      new_note.offset = offset\n",
        "      new_note.storedInstrument = instrument.Piano()\n",
        "      output_notes.append(new_note)\n",
        "    offset += 0.5\n",
        "  \n",
        "  midi_stream = stream.Stream(output_notes)\n",
        "  midi_stream.write(\"midi\", fp=output_path)"
      ],
      "execution_count": null,
      "outputs": []
    },
    {
      "cell_type": "code",
      "metadata": {
        "id": "GUyOOD7KbJ79"
      },
      "source": [
        "import os\n",
        "from tqdm import tqdm\n",
        "count = 0\n",
        "\n",
        "f = open(\"drive/MyDrive/piano_music_dataset.txt\", \"a\")\n",
        "\n",
        "for root, dirs, files in os.walk(\"/content/adl-piano-midi\"):\n",
        "  for file in files:\n",
        "    if file.lower().endswith(\".mid\"):\n",
        "      try:\n",
        "        path = os.path.join(root, file)\n",
        "\n",
        "        notes = midi2notes(path)\n",
        "\n",
        "        \n",
        "        print(count)\n",
        "        count += 1\n",
        "\n",
        "        text = \",\".join(notes)\n",
        "        f.write(\"<|startoftext|>\" + text + \"<|endoftext|>\\n\")\n",
        "      except Exception as e:\n",
        "        print(e)\n",
        "f.close()"
      ],
      "execution_count": null,
      "outputs": []
    },
    {
      "cell_type": "code",
      "metadata": {
        "id": "NU0xRH35DAhY"
      },
      "source": [
        "# with open(\"drive/MyDrive/game_music_dataset.txt\", \"r\") as f:\n",
        "#   text = f.read().replace(\"\\n<|endoftext|>\\n\",\"<|endoftext|>\").replace(\"<|startoftext|>\\n\", \"\").split(\"<|endoftext|>\")\n",
        "#   print(print([len(i) for i in text]))\n",
        "#   print(len(text))\n",
        "#   text = \"<|endoftext|>\".join(text)\n",
        "#   with open(\"drive/MyDrive/game_music_dataset_1.txt\", \"w\") as f:\n",
        "#     f.write(text)"
      ],
      "execution_count": null,
      "outputs": []
    },
    {
      "cell_type": "code",
      "metadata": {
        "id": "1CeE2xpYxRke"
      },
      "source": [
        "%tensorflow_version 1.x\n",
        "!pip install -q gpt-2-simple\n",
        "\n",
        "from os import path\n",
        "import gpt_2_simple as gpt2\n",
        "import tensorflow as tf\n",
        "\n",
        "%cd drive/MyDrive/GPT-2_Music/\n",
        "\n",
        "if not path.exists(\"models\"):\n",
        "  gpt2.download_gpt2(model_name=\"355M\")\n",
        "\n",
        "action = \"generate\"\n",
        "\n",
        "\n",
        "if action == \"train\":\n",
        "  while True:\n",
        "    tf.reset_default_graph()\n",
        "    session = gpt2.start_tf_sess()\n",
        "\n",
        "    gpt2.finetune(session,\n",
        "                  dataset=\"../piano_music_dataset.txt\",\n",
        "                  model_name='355M',\n",
        "                  steps=100_000,\n",
        "                  run_name='run1',\n",
        "                  print_every=10,\n",
        "                  sample_every=100_000,\n",
        "                  save_every=100\n",
        "                  )\n",
        "if action == \"generate\":\n",
        "  tf.reset_default_graph()\n",
        "  session = gpt2.start_tf_sess()\n",
        "  gpt2.load_gpt2(session)\n",
        "\n",
        "  while True:\n",
        "    text = \"\"\n",
        "    while len(text) < 3:\n",
        "      text = gpt2.generate(session,\n",
        "                    temperature=0.7,\n",
        "                    batch_size=1,\n",
        "                    prefix=\"<|startoftext|>\",\n",
        "                    truncate=\"<|endoftext|>\",\n",
        "                    include_prefix=False,\n",
        "                    length=1024,\n",
        "                    return_as_list=True\n",
        "                    )[0]\n",
        "    print(text)\n",
        "\n"
      ],
      "execution_count": null,
      "outputs": []
    },
    {
      "cell_type": "code",
      "metadata": {
        "id": "20ZsYLdZovPX"
      },
      "source": [
        "gpt2.copy_checkpoint_to_gdrive(\"run1\")"
      ],
      "execution_count": null,
      "outputs": []
    },
    {
      "cell_type": "code",
      "metadata": {
        "id": "v23BtDyItoIk"
      },
      "source": [
        "cd ../../../"
      ],
      "execution_count": null,
      "outputs": []
    }
  ]
}