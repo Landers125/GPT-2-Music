{
  "nbformat": 4,
  "nbformat_minor": 0,
  "metadata": {
    "colab": {
      "name": " GPT-2 Music.ipynb",
      "provenance": [],
      "collapsed_sections": [],
      "include_colab_link": true
    },
    "kernelspec": {
      "name": "python3",
      "display_name": "Python 3"
    },
    "language_info": {
      "name": "python"
    },
    "accelerator": "GPU"
  },
  "cells": [
    {
      "cell_type": "markdown",
      "metadata": {
        "id": "view-in-github",
        "colab_type": "text"
      },
      "source": [
        "<a href=\"https://colab.research.google.com/github/annasajkh/GPT-2-Music/blob/main/GPT_2_Music.ipynb\" target=\"_parent\"><img src=\"https://colab.research.google.com/assets/colab-badge.svg\" alt=\"Open In Colab\"/></a>"
      ]
    },
    {
      "cell_type": "code",
      "metadata": {
        "id": "ObmNl53iyAEv",
        "cellView": "form"
      },
      "source": [
        "#@title run this to setup everything\n",
        "#@markdown only runs this once\n",
        "#converter from https://towardsdatascience.com/how-to-generate-music-using-a-lstm-neural-network-in-keras-68786834d4c5\n",
        "\n",
        "%tensorflow_version 1.x\n",
        "!pip install -q gpt-2-simple\n",
        "\n",
        "from os import path\n",
        "import gpt_2_simple as gpt2\n",
        "import tensorflow as tf\n",
        "from google.colab import files\n",
        "\n",
        "from google.colab import files\n",
        "from music21 import converter, instrument, note, chord, stream\n",
        "import os\n",
        "\n",
        "def notes2midi(notes_str):\n",
        "  prediction_output = notes_str.replace(\"<|startoftext|>\",\"\").strip().split(\",\")\n",
        "\n",
        "  offset = 0\n",
        "  output_notes = []\n",
        "\n",
        "  for pattern in prediction_output:\n",
        "    try:\n",
        "      if (\".\" in pattern) or pattern.isdigit():\n",
        "        notes_in_chord = pattern.split(\".\")\n",
        "        notes = []\n",
        "\n",
        "        for current_note in notes_in_chord:\n",
        "          new_note = note.Note(int(current_note))\n",
        "          new_note.storedInstrument = instrument.Piano()\n",
        "          notes.append(new_note)\n",
        "\n",
        "        new_chord = chord.Chord(notes)\n",
        "        new_chord.offset = offset\n",
        "        output_notes.append(new_chord)\n",
        "      else:\n",
        "        new_note = note.Note(pattern)\n",
        "        new_note.offset = offset\n",
        "        new_note.storedInstrument = instrument.Piano()\n",
        "        output_notes.append(new_note)\n",
        "    except Exception as e:\n",
        "      print(\"WARNING THE AI GENERATE INVALID NOTE\")\n",
        "    \n",
        "    offset += 0.5 \n",
        "\n",
        "  midi_stream = stream.Stream(output_notes)\n",
        "  midi_stream.write(\"midi\", fp= \"generated_music.mid\")\n",
        "\n",
        "if not path.exists(\"checkpoint\"):\n",
        "  !gdown --id 1W6-ic9WQF83ozJor9ibF2ohzZ1njqP6_\n",
        "  !tar -xf checkpoint_run1.tar\n",
        "\n",
        "if not path.exists(\"models\"):\n",
        "  gpt2.download_gpt2(model_name=\"355M\")\n",
        "\n",
        "tf.reset_default_graph()\n",
        "session = gpt2.start_tf_sess()\n",
        "gpt2.load_gpt2(session)"
      ],
      "execution_count": null,
      "outputs": []
    },
    {
      "cell_type": "code",
      "metadata": {
        "id": "i_ERCjpau1Js",
        "cellView": "form"
      },
      "source": [
        "#@title run this to generate music\n",
        "#@markdown the generated music is a midi file you can convert it to mp3 using online converter\n",
        "print(\"generating music this will take a while...\")\n",
        "notes = gpt2.generate(\n",
        "              session,\n",
        "              temperature=0.9,\n",
        "              top_k=40,\n",
        "              batch_size=1,\n",
        "              prefix=\"<|startoftext|>\",\n",
        "              truncate=\"<|endoftext|>\",\n",
        "              include_prefix=False,\n",
        "              length=1024,\n",
        "              return_as_list=True\n",
        "              )[0]\n",
        "\n",
        "\n",
        "notes2midi(notes)\n",
        "\n",
        "files.download(\"generated_music.mid\") "
      ],
      "execution_count": null,
      "outputs": []
    }
  ]
}